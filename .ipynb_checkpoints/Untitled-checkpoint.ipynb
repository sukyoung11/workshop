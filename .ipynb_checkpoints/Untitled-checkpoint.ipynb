{
 "cells": [
  {
   "cell_type": "markdown",
   "id": "06d4305f",
   "metadata": {},
   "source": [
    "# 1/17"
   ]
  },
  {
   "cell_type": "code",
   "execution_count": 1,
   "id": "ee74e397",
   "metadata": {
    "scrolled": true
   },
   "outputs": [
    {
     "name": "stdout",
     "output_type": "stream",
     "text": [
      "10\n",
      "1\n",
      "2\n",
      "3\n",
      "4\n",
      "5\n",
      "6\n",
      "7\n",
      "8\n",
      "9\n",
      "10\n"
     ]
    }
   ],
   "source": [
    "# 자연수 number를 입력 받아, 1부터 number까지의 수를 세로로 한줄씩 출력하시오.\n",
    "num = int(input())\n",
    "for i in range(1,num+1):\n",
    "    print(i)"
   ]
  },
  {
   "cell_type": "code",
   "execution_count": 3,
   "id": "ea4a8186",
   "metadata": {},
   "outputs": [
    {
     "name": "stdout",
     "output_type": "stream",
     "text": [
      "5\n",
      "5\n",
      "4\n",
      "3\n",
      "2\n",
      "1\n",
      "0\n"
     ]
    }
   ],
   "source": [
    "# 자연수 number를 입력 받아, number부터 0까지의 수를 세로로 한줄씩 출력하시오 (거꾸로 출력)\n",
    "num = int(input())\n",
    "for i in range(num+1):\n",
    "    print(num-i)\n",
    "    "
   ]
  },
  {
   "cell_type": "code",
   "execution_count": 4,
   "id": "c3e6de6d",
   "metadata": {},
   "outputs": [
    {
     "name": "stdout",
     "output_type": "stream",
     "text": [
      "10\n",
      "55\n"
     ]
    }
   ],
   "source": [
    "\"\"\"\n",
    "입력으로 자연수 number가 주어질 때, 1부터 주어진 자연수 number까지를 모두 더한 값을 출력하시오. \n",
    "단, 주어지는 숫자는 10000을 넘지 않는다. \n",
    "예를 들어, 주어진 숫자가 10일경우 1 + 2 + 3 + 4 + 5 + 6 + 7 + 8 + 9 + 10 = 55이므로, 출력해야 할 값은 55이다.\n",
    "\"\"\"\n",
    "number = int(input())\n",
    "total = 0\n",
    "for i in range(1,number+1):\n",
    "    total+=i\n",
    "print(total)\n"
   ]
  },
  {
   "cell_type": "markdown",
   "id": "0b72ad64",
   "metadata": {},
   "source": [
    "# 1/18"
   ]
  },
  {
   "cell_type": "code",
   "execution_count": 5,
   "id": "ee2dc8a4",
   "metadata": {},
   "outputs": [
    {
     "name": "stdout",
     "output_type": "stream",
     "text": [
      "10\n",
      "[1, 2, 5, 10]\n"
     ]
    }
   ],
   "source": [
    "# 정수 N의 약수를 오름차순으로 출력하는 프로그램\n",
    "num = int(input())\n",
    "divisors = [divisor for divisor in range(1,num+1) if num % divisor == 0]\n",
    "print(divisors)"
   ]
  },
  {
   "cell_type": "code",
   "execution_count": 13,
   "id": "93be3935",
   "metadata": {},
   "outputs": [
    {
     "name": "stdout",
     "output_type": "stream",
     "text": [
      "46\n"
     ]
    }
   ],
   "source": [
    "# 리스트 numbers에 입력된 숫자에서 중간값을 출력하라\n",
    "numbers = [45,67,8,75,46,67,78,34,23,67,94,35,14]\n",
    "numbers.sort()\n",
    "middle = int(len(numbers)/2)\n",
    "print(numbers[middle])"
   ]
  },
  {
   "cell_type": "code",
   "execution_count": 50,
   "id": "6cb323e0",
   "metadata": {},
   "outputs": [
    {
     "name": "stdout",
     "output_type": "stream",
     "text": [
      "4\n",
      "1\n",
      "12\n",
      "123\n",
      "1234\n"
     ]
    }
   ],
   "source": [
    "# 자연수 number를 입력 받아, 아래와 같이 높이가 number인 내려가는 계단을 출력하시오.\n",
    "num = int(input())\n",
    "for i in range (1,num+1):\n",
    "    for j in range(1,i+1):\n",
    "        print(j,end='')\n",
    "    print('')\n",
    "        "
   ]
  },
  {
   "cell_type": "markdown",
   "id": "c33b0b52",
   "metadata": {},
   "source": [
    "# 1/19"
   ]
  },
  {
   "cell_type": "code",
   "execution_count": 51,
   "id": "50657e32",
   "metadata": {},
   "outputs": [
    {
     "data": {
      "text/plain": [
       "15"
      ]
     },
     "execution_count": 51,
     "metadata": {},
     "output_type": "execute_result"
    }
   ],
   "source": [
    "# 정수로만 이루어진 list를 전달 받아 해당 list의 모든 요소들의 합을 반환하는 list_sum 함수 작성\n",
    "# sum() 사용 x\n",
    "def list_sum(mylist):\n",
    "    total = 0\n",
    "    for i in mylist:\n",
    "        total += i\n",
    "    return total\n",
    "list_sum([1,2,3,4,5])\n",
    "        "
   ]
  },
  {
   "cell_type": "code",
   "execution_count": 53,
   "id": "34d71e29",
   "metadata": {},
   "outputs": [
    {
     "data": {
      "text/plain": [
       "33"
      ]
     },
     "execution_count": 53,
     "metadata": {},
     "output_type": "execute_result"
    }
   ],
   "source": [
    "# Dictionary로 이루어진 list를 전달 받아 모든 dictionary의 'age' key에 해당하는 value들의 합을 반환하는 dict_list_sum 함수\n",
    "def dict_list_sum(dictlist):\n",
    "    total=0\n",
    "    for i in dictlist:\n",
    "        total+=i['age']\n",
    "    return total\n",
    "dict_list_sum([{'name':'kim', 'age':12},{'name':'jin', 'age':21}])"
   ]
  },
  {
   "cell_type": "code",
   "execution_count": 54,
   "id": "8b7ade2c",
   "metadata": {},
   "outputs": [
    {
     "data": {
      "text/plain": [
       "55"
      ]
     },
     "execution_count": 54,
     "metadata": {},
     "output_type": "execute_result"
    }
   ],
   "source": [
    "# 정수로만 이루어진 2차원 list를 전달 받아 해당 list의 모든 요소들의 합을 반환하는 all_list_sum 함수\n",
    "def all_list_sum(all_list):\n",
    "    total=0\n",
    "    for list1 in all_list:\n",
    "        for nums in list1:\n",
    "            total+=nums\n",
    "    return total\n",
    "all_list_sum([[1],[2,3],[4,5,6],[7,8,9,10]])\n",
    "        "
   ]
  },
  {
   "cell_type": "code",
   "execution_count": null,
   "id": "da9f50f5",
   "metadata": {},
   "outputs": [],
   "source": []
  }
 ],
 "metadata": {
  "kernelspec": {
   "display_name": "Python 3 (ipykernel)",
   "language": "python",
   "name": "python3"
  },
  "language_info": {
   "codemirror_mode": {
    "name": "ipython",
    "version": 3
   },
   "file_extension": ".py",
   "mimetype": "text/x-python",
   "name": "python",
   "nbconvert_exporter": "python",
   "pygments_lexer": "ipython3",
   "version": "3.9.9"
  }
 },
 "nbformat": 4,
 "nbformat_minor": 5
}
