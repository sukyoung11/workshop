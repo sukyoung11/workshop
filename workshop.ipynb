{
 "cells": [
  {
   "cell_type": "markdown",
   "id": "569755eb",
   "metadata": {},
   "source": [
    "# Workshop"
   ]
  },
  {
   "cell_type": "markdown",
   "id": "06d4305f",
   "metadata": {},
   "source": [
    "## 1/17"
   ]
  },
  {
   "cell_type": "code",
   "execution_count": 1,
   "id": "ee74e397",
   "metadata": {
    "scrolled": true
   },
   "outputs": [
    {
     "name": "stdout",
     "output_type": "stream",
     "text": [
      "10\n",
      "1\n",
      "2\n",
      "3\n",
      "4\n",
      "5\n",
      "6\n",
      "7\n",
      "8\n",
      "9\n",
      "10\n"
     ]
    }
   ],
   "source": [
    "#1 자연수 number를 입력 받아, 1부터 number까지의 수를 세로로 한줄씩 출력하시오.\n",
    "\n",
    "num = int(input())\n",
    "for i in range(1, num+1):\n",
    "    print(i)"
   ]
  },
  {
   "cell_type": "code",
   "execution_count": 3,
   "id": "ea4a8186",
   "metadata": {},
   "outputs": [
    {
     "name": "stdout",
     "output_type": "stream",
     "text": [
      "5\n",
      "5\n",
      "4\n",
      "3\n",
      "2\n",
      "1\n",
      "0\n"
     ]
    }
   ],
   "source": [
    "#2 자연수 number를 입력 받아, number부터 0까지의 수를 세로로 한줄씩 출력하시오 (거꾸로 출력)\n",
    "\n",
    "num = int(input())\n",
    "for i in range(num+1):\n",
    "    print(num-i)\n",
    "    \n",
    "# for i in range (number,-1,-1):\n",
    "#     print(i)\n",
    "    \n",
    "# while number>-1:\n",
    "#     print(number)\n",
    "#     number-=1"
   ]
  },
  {
   "cell_type": "code",
   "execution_count": 4,
   "id": "c3e6de6d",
   "metadata": {},
   "outputs": [
    {
     "name": "stdout",
     "output_type": "stream",
     "text": [
      "10\n",
      "55\n"
     ]
    }
   ],
   "source": [
    "#3\n",
    "\"\"\"\n",
    "입력으로 자연수 number가 주어질 때, 1부터 주어진 자연수 number까지를 모두 더한 값을 출력하시오. \n",
    "단, 주어지는 숫자는 10000을 넘지 않는다. \n",
    "예를 들어, 주어진 숫자가 10일경우 1 + 2 + 3 + 4 + 5 + 6 + 7 + 8 + 9 + 10 = 55이므로, \n",
    "출력해야 할 값은 55이다.\n",
    "\"\"\"\n",
    "number = int(input())\n",
    "total = 0\n",
    "for i in range(1, number+1):\n",
    "    total += i\n",
    "print(total)\n",
    "\n",
    "\n",
    "\n",
    "# 자연수 총합 식 이용 (가장 빠르게 계산)\n",
    "# total = (number+1) * number / 2\n",
    "# int(total)\n"
   ]
  },
  {
   "cell_type": "code",
   "execution_count": 2,
   "id": "959e00fe",
   "metadata": {
    "scrolled": true
   },
   "outputs": [
    {
     "name": "stdout",
     "output_type": "stream",
     "text": [
      "10\n",
      "55\n"
     ]
    }
   ],
   "source": [
    "#3-1 sum()사용\n",
    "number=int(input())\n",
    "print(sum(range(1,number+1)))"
   ]
  },
  {
   "cell_type": "code",
   "execution_count": 4,
   "id": "1ef5fcbb",
   "metadata": {},
   "outputs": [
    {
     "name": "stdout",
     "output_type": "stream",
     "text": [
      "10\n",
      "55\n"
     ]
    }
   ],
   "source": [
    "#3-2 while 사용\n",
    "number=int(input())\n",
    "i=1\n",
    "total=0\n",
    "while i<= number:\n",
    "    total+=i\n",
    "    i+=1\n",
    "print(total)"
   ]
  },
  {
   "cell_type": "markdown",
   "id": "0b72ad64",
   "metadata": {},
   "source": [
    "## 1/18"
   ]
  },
  {
   "cell_type": "code",
   "execution_count": 5,
   "id": "ee2dc8a4",
   "metadata": {},
   "outputs": [
    {
     "name": "stdout",
     "output_type": "stream",
     "text": [
      "10\n",
      "[1, 2, 5, 10]\n"
     ]
    }
   ],
   "source": [
    "#1 정수 N의 약수를 오름차순으로 출력하는 프로그램\n",
    "num = int(input())\n",
    "divisors = [divisor for divisor in range(1, num+1) if num % divisor == 0]\n",
    "print(divisors)\n",
    "\n",
    "# for i in range(1,num+1):\n",
    "#     if n % i == 0:\n",
    "#         print(i, end=' ')"
   ]
  },
  {
   "cell_type": "code",
   "execution_count": 13,
   "id": "93be3935",
   "metadata": {},
   "outputs": [
    {
     "name": "stdout",
     "output_type": "stream",
     "text": [
      "46\n"
     ]
    }
   ],
   "source": [
    "#2 리스트 numbers에 입력된 숫자에서 중간값을 출력하라\n",
    "numbers = [45, 67, 8, 75, 46, 67, 78, 34, 23, 67, 94, 35, 14]\n",
    "numbers.sort()\n",
    "middle = len(numbers) // 2\n",
    "print(numbers[middle])"
   ]
  },
  {
   "cell_type": "code",
   "execution_count": 50,
   "id": "6cb323e0",
   "metadata": {
    "scrolled": true
   },
   "outputs": [
    {
     "name": "stdout",
     "output_type": "stream",
     "text": [
      "4\n",
      "1\n",
      "12\n",
      "123\n",
      "1234\n"
     ]
    }
   ],
   "source": [
    "#3 자연수 number를 입력 받아, 아래와 같이 높이가 number인 내려가는 계단을 출력하시오.\n",
    "num = int(input())\n",
    "for i in range (1,num+1):\n",
    "    for j in range(1,i+1):\n",
    "        print(j,end='')\n",
    "    print('')\n"
   ]
  },
  {
   "cell_type": "code",
   "execution_count": 10,
   "id": "7e374cb6",
   "metadata": {},
   "outputs": [
    {
     "name": "stdout",
     "output_type": "stream",
     "text": [
      "4\n",
      "1\n",
      "12\n",
      "123\n",
      "1234\n"
     ]
    }
   ],
   "source": [
    "#3-1 다른 방법 (비추)\n",
    "number = int(input())\n",
    "for i in range(1,number+1):\n",
    "    print(''.join(map(str,list(range(1,i+1)))))\n",
    "    "
   ]
  },
  {
   "cell_type": "markdown",
   "id": "c33b0b52",
   "metadata": {},
   "source": [
    "## 1/19"
   ]
  },
  {
   "cell_type": "code",
   "execution_count": 51,
   "id": "50657e32",
   "metadata": {},
   "outputs": [
    {
     "data": {
      "text/plain": [
       "15"
      ]
     },
     "execution_count": 51,
     "metadata": {},
     "output_type": "execute_result"
    }
   ],
   "source": [
    "#1 정수로만 이루어진 list를 전달 받아 해당 list의 모든 요소들의 합을 반환하는 list_sum 함수 작성\n",
    "# sum() 사용 x\n",
    "def list_sum(mylist):\n",
    "    total = 0\n",
    "    for i in mylist:\n",
    "        total += i\n",
    "    return total\n",
    "list_sum([1, 2, 3, 4, 5])\n",
    "        "
   ]
  },
  {
   "cell_type": "code",
   "execution_count": 53,
   "id": "34d71e29",
   "metadata": {},
   "outputs": [
    {
     "data": {
      "text/plain": [
       "33"
      ]
     },
     "execution_count": 53,
     "metadata": {},
     "output_type": "execute_result"
    }
   ],
   "source": [
    "#2 Dict로 이루어진 list를 전달 받아 모든 dict의 'age' key에 해당하는 value들의 합을 반환하는 dict_list_sum 함수\n",
    "def dict_list_sum(dictlist):\n",
    "    total = 0\n",
    "    for i in dictlist:\n",
    "        total += i['age']\n",
    "    return total\n",
    "dict_list_sum([{'name':'kim', 'age':12},{'name':'jin', 'age':21}])"
   ]
  },
  {
   "cell_type": "code",
   "execution_count": 54,
   "id": "8b7ade2c",
   "metadata": {},
   "outputs": [
    {
     "data": {
      "text/plain": [
       "55"
      ]
     },
     "execution_count": 54,
     "metadata": {},
     "output_type": "execute_result"
    }
   ],
   "source": [
    "#3 정수로만 이루어진 2차원 list를 전달 받아 해당 list의 모든 요소들의 합을 반환하는 all_list_sum 함수\n",
    "def all_list_sum(all_list):\n",
    "    total = 0\n",
    "    for list1 in all_list:\n",
    "        for nums in list1:\n",
    "            total += nums\n",
    "    return total\n",
    "all_list_sum([[1],[2,3],[4,5,6],[7,8,9,10]])\n",
    "\n",
    "\n",
    "#sum(map(sum, all_list))\n",
    "        "
   ]
  },
  {
   "cell_type": "markdown",
   "id": "0970aebd",
   "metadata": {},
   "source": [
    "## 1/20"
   ]
  },
  {
   "cell_type": "code",
   "execution_count": 10,
   "id": "142916c7",
   "metadata": {},
   "outputs": [
    {
     "data": {
      "text/plain": [
       "'SsAfY'"
      ]
     },
     "execution_count": 10,
     "metadata": {},
     "output_type": "execute_result"
    }
   ],
   "source": [
    "# 정수로 이루어진 list를 전달 받아, 각 정수에 대응되는 아스키 문자를 이어붙인 문자열을 반환하는 get_secret_word 함수\n",
    "def get_secret_word(numlist):\n",
    "    strlist = list(map(chr, numlist))\n",
    "    return ''.join(strlist)\n",
    "\n",
    "get_secret_word([83, 115, 65, 102, 89])"
   ]
  },
  {
   "cell_type": "code",
   "execution_count": 47,
   "id": "0d5c9667",
   "metadata": {},
   "outputs": [
    {
     "data": {
      "text/plain": [
       "336"
      ]
     },
     "execution_count": 47,
     "metadata": {},
     "output_type": "execute_result"
    }
   ],
   "source": [
    "#문자열을 전달 받아 해당 문자열의 각 문자에 대응되는 아스키 숫자들의 합을 반환하는 get_secret_number 함수\n",
    "def get_secret_number(strlist):\n",
    "    numlist = list(map(ord,list(strlist)))\n",
    "    return sum(numlist)\n",
    "\n",
    "get_secret_number('tom')"
   ]
  },
  {
   "cell_type": "code",
   "execution_count": 62,
   "id": "3cdf8db2",
   "metadata": {},
   "outputs": [
    {
     "data": {
      "text/plain": [
       "'john'"
      ]
     },
     "execution_count": 62,
     "metadata": {},
     "output_type": "execute_result"
    }
   ],
   "source": [
    "# 문자열 2개를 받아 두 문자열의 각 문자에 대응되는 아스키 숫자의 합을 비교해 더 큰 값 가진 문자열 반환하는 get_strong_word함수\n",
    "def get_strong_word(str1, str2):\n",
    "    str1_sum = sum(list(map(ord,list(str1))))\n",
    "    str2_sum = sum(list(map(ord,list(str2))))\n",
    "    if str1_sum >= str2_sum:\n",
    "        return str1\n",
    "    else:\n",
    "        return str2\n",
    "# return str1 if str1_sum >= str2_sum else str2\n",
    "get_strong_word('tom','john')"
   ]
  },
  {
   "cell_type": "markdown",
   "id": "da943946",
   "metadata": {},
   "source": [
    "## 1/24"
   ]
  },
  {
   "cell_type": "code",
   "execution_count": 3,
   "id": "0fc91b90",
   "metadata": {},
   "outputs": [
    {
     "data": {
      "text/plain": [
       "85.5"
      ]
     },
     "execution_count": 3,
     "metadata": {},
     "output_type": "execute_result"
    }
   ],
   "source": [
    "#1 key 값 과목명, value 값 점수를 가지는 dict를 전달 받아, 전체 과목의 평균 점수를 반환하는 get_dict_avg 함수\n",
    "\n",
    "def get_dict_avg(my_dict):\n",
    "    \n",
    "    return sum(my_dict.values())/len(my_dict.values())\n",
    "    \n",
    "get_dict_avg({'python':80,'java':90,'web':83,'algorithm':89})"
   ]
  },
  {
   "cell_type": "code",
   "execution_count": 43,
   "id": "6b9fdb5d",
   "metadata": {},
   "outputs": [
    {
     "data": {
      "text/plain": [
       "85.5"
      ]
     },
     "execution_count": 43,
     "metadata": {},
     "output_type": "execute_result"
    }
   ],
   "source": [
    "#1-1 sum() 안쓰기\n",
    "\n",
    "def get_dict_avg(my_dict):\n",
    "    total = 0\n",
    "    for score in my_dict.values():\n",
    "        total += score\n",
    "    return total / len(my_dict.values())\n",
    "\n",
    "\n",
    "get_dict_avg({'python':80,'java':90,'web':83,'algorithm':89})"
   ]
  },
  {
   "cell_type": "code",
   "execution_count": 6,
   "id": "bd07134a",
   "metadata": {},
   "outputs": [
    {
     "data": {
      "text/plain": [
       "{'A': 2, 'B': 1, 'C': 0, 'AB': 3}"
      ]
     },
     "execution_count": 6,
     "metadata": {},
     "output_type": "execute_result"
    }
   ],
   "source": [
    "#2 여러 사람의 혈액형에 대한 정보가 담긴 list를 전달 받아, key 혈액형, value 사람수인 dict를 반환하는 count_blood 함수\n",
    "\n",
    "def count_blood(blood):\n",
    "    return {'A' : blood.count('A'),\n",
    "            'B' : blood.count('B'),\n",
    "            'C' : blood.count('C'),\n",
    "            'AB' : blood.count('AB'),\n",
    "           }\n",
    "\n",
    "\n",
    "count_blood(['A','B','A','O','AB','AB','O','AB'])\n"
   ]
  },
  {
   "cell_type": "code",
   "execution_count": 47,
   "id": "c437b137",
   "metadata": {},
   "outputs": [
    {
     "data": {
      "text/plain": [
       "{'AB': 3, 'A': 2, 'B': 1, 'O': 2}"
      ]
     },
     "execution_count": 47,
     "metadata": {},
     "output_type": "execute_result"
    }
   ],
   "source": [
    "#2-1\n",
    "def count_blood(blood):\n",
    "    b_dict = {}\n",
    "    for b_type in set(blood):\n",
    "        b_dict[b_type] = blood.count(b_type)\n",
    "    return b_dict\n",
    "\n",
    "count_blood(['A','B','A','O','AB','AB','O','AB'])"
   ]
  },
  {
   "cell_type": "code",
   "execution_count": 48,
   "id": "21a4671c",
   "metadata": {},
   "outputs": [],
   "source": [
    "#2-2\n",
    "def count_blood(blood):\n",
    "    b_dict = {}\n",
    "    for b_type in blood:\n",
    "        if b_type in b_dict:\n",
    "            b_dict[b_type]+=1\n",
    "            \n",
    "        else:\n",
    "            b_dict[b_type]=1\n",
    "    return b_dict"
   ]
  },
  {
   "cell_type": "code",
   "execution_count": 49,
   "id": "209ef7a7",
   "metadata": {},
   "outputs": [
    {
     "data": {
      "text/plain": [
       "{'A': 2, 'B': 1, 'O': 2, 'AB': 3}"
      ]
     },
     "execution_count": 49,
     "metadata": {},
     "output_type": "execute_result"
    }
   ],
   "source": [
    "count_blood(['A','B','A','O','AB','AB','O','AB'])"
   ]
  },
  {
   "cell_type": "markdown",
   "id": "2bfb3b00",
   "metadata": {},
   "source": [
    "## 06. 데이터 구조 및 활용"
   ]
  },
  {
   "cell_type": "code",
   "execution_count": 17,
   "id": "402ca9b9",
   "metadata": {},
   "outputs": [
    {
     "data": {
      "text/plain": [
       "['n', 'a']"
      ]
     },
     "execution_count": 17,
     "metadata": {},
     "output_type": "execute_result"
    }
   ],
   "source": [
    "#1 문자열에서 중복해서 나타난 문자들을 담은 list를 반환\n",
    "\n",
    "def duplicated_letter(word):\n",
    "    results = set()\n",
    "    for char in word: # and char not in results\n",
    "        cnt = word.count(char)\n",
    "        if cnt >1:\n",
    "            results.add(char)\n",
    "            \n",
    "    return list(results)\n",
    "\n",
    "print(duplicated_letter('apple'))\n",
    "print(duplicated_letter('banana'))            \n",
    "\n",
    "    \n",
    "# set comprehension\n",
    "# {char for char in word if word.count(char) > 1}"
   ]
  },
  {
   "cell_type": "code",
   "execution_count": 76,
   "id": "0fe9c21b",
   "metadata": {},
   "outputs": [
    {
     "name": "stdout",
     "output_type": "stream",
     "text": [
      "aPpLe\n"
     ]
    }
   ],
   "source": [
    "#2 소문자와 대문자가 번갈아 나타나도록 변환하여 반환하는 low_and_up 함수\n",
    "\n",
    "def low_and_up(word):\n",
    "    result=[]\n",
    "    for i in range(len(word)):\n",
    "        if i % 2 ==1:\n",
    "            result.append(word[i].upper())\n",
    "        else:\n",
    "            result.append(word[i].lower())\n",
    "    \n",
    "    return ''.join(result)  \n",
    "        \n",
    "        \n",
    "\n",
    "print(low_and_up('apple'))\n",
    "        "
   ]
  },
  {
   "cell_type": "code",
   "execution_count": 41,
   "id": "59edec51",
   "metadata": {},
   "outputs": [
    {
     "name": "stdout",
     "output_type": "stream",
     "text": [
      "aPpLe\n"
     ]
    }
   ],
   "source": [
    "#2 -1\n",
    "def low_and_up(word):\n",
    "    result=''\n",
    "    for i in range(len(word)):\n",
    "        if i%2: #인덱스가 홀수\n",
    "            result += word[i].upper()\n",
    "        else:\n",
    "            result += word[i].lower()\n",
    "    return result\n",
    "\n",
    "print(low_and_up('apple'))"
   ]
  },
  {
   "cell_type": "code",
   "execution_count": 83,
   "id": "87ac2c85",
   "metadata": {},
   "outputs": [
    {
     "data": {
      "text/plain": [
       "[1, 3, 0, 1]"
      ]
     },
     "execution_count": 83,
     "metadata": {},
     "output_type": "execute_result"
    }
   ],
   "source": [
    "# 3 정수 0 ~ 9로 이루어진 list를 전달 받아, 연속적으로 나타나는 숫자는 하나만 남기고 제거한 list를 반환하는 lonely 함수\n",
    "def lonely(num_list):\n",
    "    result =[num_list[0],]\n",
    "    for i in range(len(num_list)-1):\n",
    "        if num_list[i] != num_list[i+1]:\n",
    "            result.append(num_list[i+1])\n",
    "            \n",
    "    return result\n",
    "lonely([1,1,3,3,0,1,1])\n",
    "# lonely([4,4,4,3,3])"
   ]
  },
  {
   "cell_type": "code",
   "execution_count": 30,
   "id": "5da8b7f0",
   "metadata": {},
   "outputs": [],
   "source": [
    "#3-1\n",
    "def lonely(num_list):\n",
    "    result=[num_list[0],]\n",
    "    for i in num_list:\n",
    "        if i != result[-1]:\n",
    "            result.append(i)\n",
    "    return result   "
   ]
  },
  {
   "cell_type": "code",
   "execution_count": 32,
   "id": "a54e6b4d",
   "metadata": {},
   "outputs": [
    {
     "data": {
      "text/plain": [
       "[1, 3, 0, 1]"
      ]
     },
     "execution_count": 32,
     "metadata": {},
     "output_type": "execute_result"
    }
   ],
   "source": [
    "lonely([1,1,3,3,0,1,1])\n",
    "lonely([4,4,4,3,3])"
   ]
  },
  {
   "cell_type": "markdown",
   "id": "149ac909",
   "metadata": {},
   "source": [
    "## 07. 객체 지향 프로그래밍"
   ]
  },
  {
   "cell_type": "code",
   "execution_count": null,
   "id": "c166a98c",
   "metadata": {},
   "outputs": [],
   "source": [
    "# $ pip install faker\n",
    "파이썬에 faker 패키지 설치\n",
    "cmd, git bash에서 설치 후 실행"
   ]
  },
  {
   "cell_type": "code",
   "execution_count": 56,
   "id": "34ecc11b",
   "metadata": {},
   "outputs": [
    {
     "data": {
      "text/plain": [
       "'Aaron Graham'"
      ]
     },
     "execution_count": 56,
     "metadata": {},
     "output_type": "execute_result"
    }
   ],
   "source": [
    "from faker import Faker # faker라는 모듈에서 Faker라는 클래스를 불러옴\n",
    "\n",
    "fake = Faker() # Faker는 클래스, fake는 인스턴스이다\n",
    "fake.name() # .name은 fake의 인스턴스 메서드이다."
   ]
  },
  {
   "cell_type": "code",
   "execution_count": 54,
   "id": "05e1a077",
   "metadata": {},
   "outputs": [
    {
     "data": {
      "text/plain": [
       "'이성진'"
      ]
     },
     "execution_count": 54,
     "metadata": {},
     "output_type": "execute_result"
    }
   ],
   "source": [
    "f = Faker('ko_kr')\n",
    "f.name()"
   ]
  },
  {
   "cell_type": "code",
   "execution_count": 55,
   "id": "402838a6",
   "metadata": {},
   "outputs": [],
   "source": [
    "class Faker:\n",
    "    \n",
    "    def __init__(self, local = 'en_US'):\n",
    "        pass"
   ]
  },
  {
   "cell_type": "code",
   "execution_count": 49,
   "id": "52188ee1",
   "metadata": {},
   "outputs": [
    {
     "data": {
      "text/plain": [
       "0.8170477907294282"
      ]
     },
     "execution_count": 49,
     "metadata": {},
     "output_type": "execute_result"
    }
   ],
   "source": [
    "import random\n",
    "random.random()\n",
    "random.seed(7777)\n",
    "random.random()"
   ]
  },
  {
   "cell_type": "code",
   "execution_count": 61,
   "id": "14dc10c1",
   "metadata": {},
   "outputs": [
    {
     "name": "stdout",
     "output_type": "stream",
     "text": [
      "김승민\n",
      "배광수\n"
     ]
    }
   ],
   "source": [
    "f = Faker('ko_kr')\n",
    "Faker.seed(123) # seed는 class method -> 랜덤으로 출력된 값을 고정시켜줌\n",
    "\n",
    "print(f.name())\n",
    "\n",
    "f2 = Faker('ko_kr')\n",
    "print(f2.name())\n"
   ]
  },
  {
   "cell_type": "code",
   "execution_count": 64,
   "id": "a39e9099",
   "metadata": {},
   "outputs": [
    {
     "name": "stdout",
     "output_type": "stream",
     "text": [
      "이도윤\n",
      "김시우\n"
     ]
    }
   ],
   "source": [
    "fake = Faker('ko_kr')\n",
    "fake.seed_instance(4321) #seed_instance는 instance메소드\n",
    "\n",
    "print(fake.name())\n",
    "\n",
    "fake2 = Faker('ko_kr')\n",
    "print(fake2.name())\n",
    "\n",
    "# seed()는 class 전체에 적용, seed_instance는 각각의 instance에 적용된다"
   ]
  },
  {
   "cell_type": "markdown",
   "id": "47be1ee9",
   "metadata": {},
   "source": [
    "## 08. 객체 지향 프로그래밍"
   ]
  },
  {
   "cell_type": "code",
   "execution_count": null,
   "id": "1cf67518",
   "metadata": {},
   "outputs": [],
   "source": [
    "#1 도형만들기 "
   ]
  },
  {
   "cell_type": "code",
   "execution_count": 92,
   "id": "bd5e337e",
   "metadata": {},
   "outputs": [
    {
     "data": {
      "text/plain": [
       "4"
      ]
     },
     "execution_count": 92,
     "metadata": {},
     "output_type": "execute_result"
    }
   ],
   "source": [
    "class Point:\n",
    "    \n",
    "    def __init__(self, x, y):\n",
    "        self.x = x\n",
    "        self.y = y\n",
    "    \n",
    "    \n",
    "\n",
    "p1 = Point(4,3) \n",
    "p1.x\n"
   ]
  },
  {
   "cell_type": "code",
   "execution_count": 135,
   "id": "9e9a895f",
   "metadata": {},
   "outputs": [],
   "source": [
    "class Rectangle:\n",
    "    \n",
    "    def __init__(self,p1,p2):\n",
    "        self.p1 = p1\n",
    "        self.p2 = p2\n",
    " \n",
    "        \n",
    "    def get_area(self):\n",
    "        return (self.p2.x - self.p1.x)*(self.p1.y- self.p2.y)\n",
    "    \n",
    "    def get_perimeter(self):\n",
    "        return 2 * ((self.p2.x - self.p1.x)+ (self.p1.y- self.p2.y))\n",
    "    \n",
    "    def is_square(self):\n",
    "        return (self.p2.x - self.p1.x) ==  (self.p1.y- self.p2.y)"
   ]
  },
  {
   "cell_type": "code",
   "execution_count": 136,
   "id": "15ee9fb9",
   "metadata": {},
   "outputs": [
    {
     "name": "stdout",
     "output_type": "stream",
     "text": [
      "4\n",
      "8\n",
      "True\n",
      "9\n",
      "12\n",
      "True\n"
     ]
    }
   ],
   "source": [
    "p1 = Point(1, 3)\n",
    "p2 = Point(3, 1)\n",
    "r1 = Rectangle(p1, p2)\n",
    "print(r1.get_area())\n",
    "print(r1.get_perimeter())\n",
    "print(r1.is_square())\n",
    "p3 = Point(3, 7)\n",
    "p4 = Point(6, 4)\n",
    "r2 = Rectangle(p3, p4)\n",
    "print(r2.get_area())\n",
    "print(r2.get_perimeter())\n",
    "print(r2.is_square())"
   ]
  },
  {
   "cell_type": "code",
   "execution_count": 133,
   "id": "dc6c84d7",
   "metadata": {},
   "outputs": [],
   "source": [
    "#2-1\n",
    "class Rectangle:\n",
    "    \n",
    "    def __init__(self,p1,p2):\n",
    "        self.p1 = p1\n",
    "        self.p2 = p2\n",
    "        self.width = p2.x - p1.x\n",
    "        self.height = p1.y- p2.y\n",
    "        \n",
    "        \n",
    "    def get_area(self):\n",
    "        return self.width * self.height\n",
    "    \n",
    "    def get_perimeter(self):\n",
    "        return 2 * (self.width +self.height )\n",
    "    \n",
    "    def is_square(self):\n",
    "        return self.width == self.height"
   ]
  },
  {
   "cell_type": "code",
   "execution_count": 134,
   "id": "2a31b98a",
   "metadata": {},
   "outputs": [
    {
     "name": "stdout",
     "output_type": "stream",
     "text": [
      "4\n",
      "8\n",
      "True\n",
      "9\n",
      "12\n",
      "True\n"
     ]
    }
   ],
   "source": [
    "p1 = Point(1, 3)\n",
    "p2 = Point(3, 1)\n",
    "r1 = Rectangle(p1, p2)\n",
    "print(r1.get_area())\n",
    "print(r1.get_perimeter())\n",
    "print(r1.is_square())\n",
    "p3 = Point(3, 7)\n",
    "p4 = Point(6, 4)\n",
    "r2 = Rectangle(p3, p4)\n",
    "print(r2.get_area())\n",
    "print(r2.get_perimeter())\n",
    "print(r2.is_square())"
   ]
  },
  {
   "cell_type": "code",
   "execution_count": null,
   "id": "c7378c06",
   "metadata": {},
   "outputs": [],
   "source": []
  },
  {
   "cell_type": "code",
   "execution_count": null,
   "id": "b63f8acd",
   "metadata": {},
   "outputs": [],
   "source": []
  },
  {
   "cell_type": "code",
   "execution_count": null,
   "id": "b5efeb20",
   "metadata": {},
   "outputs": [],
   "source": []
  },
  {
   "cell_type": "code",
   "execution_count": null,
   "id": "6c306e53",
   "metadata": {},
   "outputs": [],
   "source": []
  },
  {
   "cell_type": "code",
   "execution_count": null,
   "id": "acab1330",
   "metadata": {},
   "outputs": [],
   "source": []
  },
  {
   "cell_type": "code",
   "execution_count": null,
   "id": "f6ad66cc",
   "metadata": {},
   "outputs": [],
   "source": []
  }
 ],
 "metadata": {
  "kernelspec": {
   "display_name": "Python 3 (ipykernel)",
   "language": "python",
   "name": "python3"
  },
  "language_info": {
   "codemirror_mode": {
    "name": "ipython",
    "version": 3
   },
   "file_extension": ".py",
   "mimetype": "text/x-python",
   "name": "python",
   "nbconvert_exporter": "python",
   "pygments_lexer": "ipython3",
   "version": "3.9.9"
  }
 },
 "nbformat": 4,
 "nbformat_minor": 5
}
